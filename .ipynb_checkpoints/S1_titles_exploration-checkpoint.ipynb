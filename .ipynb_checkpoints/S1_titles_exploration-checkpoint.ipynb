{
 "cells": [
  {
   "cell_type": "code",
   "execution_count": 1,
   "metadata": {},
   "outputs": [],
   "source": [
    "%matplotlib notebook\n",
    "\n",
    "import pandas as pd\n",
    "import numpy as np\n",
    "\n",
    "import matplotlib.pyplot as plt\n",
    "import matplotlib\n",
    "\n",
    "import scipy as sp\n",
    "from scipy import sparse\n",
    "\n",
    "import openTSNE\n",
    "from openTSNE import TSNE\n",
    "from openTSNE import affinity\n",
    "\n",
    "import time\n",
    "\n",
    "import pickle\n",
    "\n",
    "from scipy.spatial.distance import cdist\n",
    "from sklearn.metrics import pairwise_distances"
   ]
  },
  {
   "cell_type": "markdown",
   "metadata": {},
   "source": [
    "# Import stuff"
   ]
  },
  {
   "cell_type": "markdown",
   "metadata": {},
   "source": [
    "## Paper indeces and titles"
   ]
  },
  {
   "cell_type": "markdown",
   "metadata": {},
   "source": [
    "The indices were obtained by simply searching in the titles pandas series the desired paper title."
   ]
  },
  {
   "cell_type": "code",
   "execution_count": 2,
   "metadata": {},
   "outputs": [],
   "source": [
    "#import indices (The art of using t-SNE for single-cell transcriptomics.)\n",
    "paper_index=np.load(\"variables/paper_index.npy\")\n",
    "\n",
    "#import indices ('Global Jitter Motion of the Retinal Image Dynamically Alters the Receptive Field Properties of Retinal Ganglion Cells.')\n",
    "paper_2_index=np.load(\"variables/paper_2_index.npy\")"
   ]
  },
  {
   "cell_type": "code",
   "execution_count": 3,
   "metadata": {},
   "outputs": [],
   "source": [
    "# load\n",
    "clean_df=pd.read_pickle(\"variables/clean_df\")"
   ]
  },
  {
   "cell_type": "code",
   "execution_count": null,
   "metadata": {},
   "outputs": [],
   "source": [
    "serie_titles=clean_df['Titles'].copy(deep=True)"
   ]
  },
  {
   "cell_type": "markdown",
   "metadata": {},
   "source": [
    "# Functions"
   ]
  },
  {
   "cell_type": "code",
   "execution_count": 5,
   "metadata": {},
   "outputs": [],
   "source": [
    "def find_and_print_NN(serie_titles,tsne,paper_index,number_NN=10, print_abstracts=False,serie_abstracts=None):\n",
    "    tsne_paper=tsne[paper_index,:]\n",
    "    d = cdist(tsne,tsne_paper.reshape(1,-1))\n",
    "    indeces_11nn=np.argsort(d.flatten())[:number_NN+1]\n",
    "    \n",
    "    #print\n",
    "    for i in range(0,len(indeces_11nn)):\n",
    "        #         print('Neighbor {:}:'.format(i),serie_titles.iloc[indeces_11nn].tolist()[i])\n",
    "        print(serie_titles.iloc[indeces_11nn].tolist()[i])\n",
    "        if print_abstracts==True:\n",
    "            print(serie_abstracts.iloc[indeces_11nn].tolist()[i])\n",
    "            print('----------------------------------------------------------')\n",
    "    \n",
    "    return indeces_11nn"
   ]
  },
  {
   "cell_type": "code",
   "execution_count": 6,
   "metadata": {},
   "outputs": [],
   "source": [
    "def find_and_print_NN_sparse(serie_titles,tsne,paper_index,number_NN=10, print_abstracts=False,serie_abstracts=None):\n",
    "    tsne_paper=tsne[paper_index,:]\n",
    "    d = pairwise_distances(tsne,tsne_paper.reshape(1,-1))\n",
    "    indeces_11nn=np.argsort(d.flatten())[:number_NN+1]\n",
    "    \n",
    "    #print\n",
    "    for i in range(0,len(indeces_11nn)):\n",
    "        print('Neighbor {:}:'.format(i),serie_titles.iloc[indeces_11nn].tolist()[i])\n",
    "        if print_abstracts==True:\n",
    "            print(serie_abstracts.iloc[indeces_11nn].tolist()[i])\n",
    "            print('----------------------------------------------------------')\n",
    "    \n",
    "    return indeces_11nn"
   ]
  },
  {
   "cell_type": "markdown",
   "metadata": {},
   "source": [
    "# FOR PAPER 1:"
   ]
  },
  {
   "cell_type": "markdown",
   "metadata": {},
   "source": [
    "# Tf-idf"
   ]
  },
  {
   "cell_type": "code",
   "execution_count": 8,
   "metadata": {},
   "outputs": [],
   "source": [
    "# tfidf_features\n",
    "tfidf_features = sp.sparse.load_npz(\"../rgonzalesmarquez/variables/tfidf_features.npz\")"
   ]
  },
  {
   "cell_type": "code",
   "execution_count": 9,
   "metadata": {},
   "outputs": [
    {
     "name": "stdout",
     "output_type": "stream",
     "text": [
      "Neighbour 0: The art of using t-SNE for single-cell transcriptomics.\n",
      "Neighbour 1: Application of t-SNE to human genetic data.\n",
      "Neighbour 2: Heavy-tailed kernels reveal a finer cluster structure in t-SNE visualisations.\n",
      "Neighbour 3: Fast interpolation-based t-SNE for improved visualization of single-cell RNA-seq data.\n",
      "Neighbour 4: Automated optimized parameters for T-distributed stochastic neighbor embedding improve visualization and analysis of large datasets.\n",
      "Neighbour 5: Performance comparison of dimensionality reduction methods on RNA-Seq data from the GTEx project.\n",
      "Neighbour 6: Visualizing the spatial gene expression organization in the brain through non-linear similarity embeddings.\n",
      "Neighbour 7: Visual analysis of mass cytometry data by hierarchical stochastic neighbour embedding reveals rare cell types.\n",
      "Neighbour 8: Generalizable and Scalable Visualization of Single-Cell Data Using Neural Networks.\n",
      "Neighbour 9: Visualization of Single Cell RNA-Seq Data Using t-SNE in R.\n",
      "Neighbour 10: Current Projection Methods-Induced Biases at Subgroup Detection for Machine-Learning Based Data-Analysis of Biomedical Data.\n",
      "CPU times: user 22.3 s, sys: 492 ms, total: 22.8 s\n",
      "Wall time: 22.8 s\n"
     ]
    }
   ],
   "source": [
    "%%time\n",
    "indeces_tfidf_paper_1=find_and_print_NN_sparse(serie_titles,tfidf_features,paper_index,number_NN=10, print_abstracts=False)"
   ]
  },
  {
   "cell_type": "markdown",
   "metadata": {},
   "source": [
    "# SVD "
   ]
  },
  {
   "cell_type": "code",
   "execution_count": 10,
   "metadata": {},
   "outputs": [],
   "source": [
    "# svd transformed data\n",
    "svd_data=np.load(\"variables/svd_data.npy\")"
   ]
  },
  {
   "cell_type": "code",
   "execution_count": 22,
   "metadata": {},
   "outputs": [
    {
     "name": "stdout",
     "output_type": "stream",
     "text": [
      "Neighbor 0: The art of using t-SNE for single-cell transcriptomics.\n",
      "Neighbor 1: PyBDA: a command line tool for automated analysis of big biological data sets.\n",
      "Neighbor 2: Fast interpolation-based t-SNE for improved visualization of single-cell RNA-seq data.\n",
      "Neighbor 3: scGEAToolbox: a Matlab toolbox for single-cell RNA sequencing data analysis.\n",
      "Neighbor 4: Protocol for Identification and Removal of Doublets with DoubletDecon.\n",
      "Neighbor 5: GRNBoost2 and Arboreto: efficient and scalable inference of gene regulatory networks.\n",
      "Neighbor 6: Improved dropClust R package with integrative analysis support for scRNA-seq data.\n",
      "Neighbor 7: Scrublet: Computational Identification of Cell Doublets in Single-Cell Transcriptomic Data.\n",
      "Neighbor 8: Falco: a quick and flexible single-cell RNA-seq processing framework on the cloud.\n",
      "Neighbor 9: zUMIs - A fast and flexible pipeline to process RNA sequencing data with UMIs.\n",
      "Neighbor 10: scGMAI: a Gaussian mixture model for clustering single-cell RNA-Seq data based on deep autoencoder.\n",
      "CPU times: user 32.8 s, sys: 6.15 s, total: 38.9 s\n",
      "Wall time: 39 s\n"
     ]
    }
   ],
   "source": [
    "%%time\n",
    "indeces_n_300=find_and_print_NN(serie_titles, svd_data, paper_index, number_NN=10, print_abstracts=False)"
   ]
  },
  {
   "cell_type": "markdown",
   "metadata": {},
   "source": [
    "# t-SNE annealing n_iter=10000"
   ]
  },
  {
   "cell_type": "markdown",
   "metadata": {},
   "source": [
    "## Paper 1"
   ]
  },
  {
   "cell_type": "code",
   "execution_count": 7,
   "metadata": {},
   "outputs": [],
   "source": [
    "tsne_exgg_annealing_10000=np.load(\"variables/all_data/tsne_annealing_exgg_1_n_iter_10000/tsne.npy\")"
   ]
  },
  {
   "cell_type": "code",
   "execution_count": 8,
   "metadata": {},
   "outputs": [
    {
     "name": "stdout",
     "output_type": "stream",
     "text": [
      "The art of using t-SNE for single-cell transcriptomics.\n",
      "Customized workflow development and data modularization concepts for RNA-Sequencing and metatranscriptome experiments.\n",
      "RNA-Rocket: an RNA-Seq analysis resource for infectious disease research.\n",
      "Deep Cap Analysis of Gene Expression (CAGE): Genome-Wide Identification of Promoters, Quantification of Their Activity, and Transcriptional Network Inference.\n",
      "Workflow Development for the Functional Characterization of ncRNAs.\n",
      "Exploring transcriptional switches from pairwise, temporal and population RNA-Seq data using deepTS.\n",
      "Defining data-driven primary transcript annotations with primaryTranscriptAnnotation in R.\n",
      "TRUFA: A User-Friendly Web Server for de novo RNA-seq Analysis Using Cluster Computing.\n",
      "S-MART, a software toolbox to aid RNA-Seq data analysis.\n",
      "A Guide to the Chloroplast Transcriptome Analysis Using RNA-Seq.\n",
      "RNA-Seq in the Collaborative Cross.\n",
      "CPU times: user 3.12 s, sys: 68.2 ms, total: 3.19 s\n",
      "Wall time: 3.2 s\n"
     ]
    }
   ],
   "source": [
    "%%time\n",
    "tsne=tsne_exgg_annealing_10000\n",
    "indeces=find_and_print_NN(serie_titles,tsne,paper_index,number_NN=10, print_abstracts=False)"
   ]
  },
  {
   "cell_type": "code",
   "execution_count": null,
   "metadata": {},
   "outputs": [],
   "source": []
  }
 ],
 "metadata": {
  "kernelspec": {
   "display_name": "Python 3",
   "language": "python",
   "name": "python3"
  },
  "language_info": {
   "codemirror_mode": {
    "name": "ipython",
    "version": 3
   },
   "file_extension": ".py",
   "mimetype": "text/x-python",
   "name": "python",
   "nbconvert_exporter": "python",
   "pygments_lexer": "ipython3",
   "version": "3.8.0"
  }
 },
 "nbformat": 4,
 "nbformat_minor": 4
}
