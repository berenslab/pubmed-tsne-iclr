{
 "cells": [
  {
   "cell_type": "code",
   "execution_count": 1,
   "metadata": {},
   "outputs": [],
   "source": [
    "%matplotlib notebook\n",
    "\n",
    "import pandas as pd\n",
    "import numpy as np\n",
    "import matplotlib.pyplot as plt\n",
    "import matplotlib\n",
    "import seaborn as sns\n",
    "import scipy as sp\n",
    "from scipy import sparse\n",
    "from scipy.sparse import csr_matrix\n",
    "import sklearn\n",
    "import sklearn.mixture\n",
    "\n",
    "# from sklearn.neighbors import KNeighborsClassifier\n",
    "from sklearn.neighbors import NearestNeighbors\n",
    "from sklearn.metrics import pairwise_distances\n",
    "\n",
    "import os\n",
    "\n",
    "import time\n",
    "\n",
    "import pickle\n",
    "\n",
    "import memory_profiler\n",
    "%load_ext memory_profiler"
   ]
  },
  {
   "cell_type": "markdown",
   "metadata": {},
   "source": [
    "We calculate the knn recall from tf-idf to t-sne directly"
   ]
  },
  {
   "cell_type": "markdown",
   "metadata": {},
   "source": [
    "# Import data"
   ]
  },
  {
   "cell_type": "code",
   "execution_count": 3,
   "metadata": {},
   "outputs": [],
   "source": [
    "tfidf_features = sp.sparse.load_npz(\"variables/tfidf_features.npz\")"
   ]
  },
  {
   "cell_type": "code",
   "execution_count": 2,
   "metadata": {},
   "outputs": [],
   "source": [
    "# svd transformed data\n",
    "svd_data=np.load(\"variables/svd_data.npy\")"
   ]
  },
  {
   "cell_type": "code",
   "execution_count": null,
   "metadata": {},
   "outputs": [],
   "source": [
    "pickle_in = open(\"variables/all_data/tsne_annealing_exgg_1_n_iter_10000/Zs_array.pkl\",\"rb\")\n",
    "Zs_array_annealing_exgg_1 = pickle.load(pickle_in)\n",
    "\n",
    "pickle_in = open(\"variables/all_data/tsne_exgg_1_n_iter_10000/Zs_array.pkl\",\"rb\")\n",
    "Zs_array_exgg_1 = pickle.load(pickle_in)\n",
    "\n",
    "pickle_in = open(\"variables/all_data/tsne_exgg_2_n_iter_2000/Zs_array.pkl\",\"rb\")\n",
    "Zs_array_exgg_2 = pickle.load(pickle_in)\n",
    "\n",
    "pickle_in = open(\"variables/all_data/tsne_exgg_4_n_iter_2000/Zs_array.pkl\",\"rb\")\n",
    "Zs_array_exgg_4 = pickle.load(pickle_in)"
   ]
  },
  {
   "cell_type": "markdown",
   "metadata": {},
   "source": [
    "# Functions for metric calculations"
   ]
  },
  {
   "cell_type": "code",
   "execution_count": 3,
   "metadata": {},
   "outputs": [],
   "source": [
    "def mnn_and_ratios(X, Zs, k=10, subset_size=None):\n",
    "    ''' \n",
    "    Function that calculates several metrics: kNN recall, low dimensional ratios and high dimensional ratios (both mean and median).\n",
    "    \n",
    "    Inputs:\n",
    "    -X: high dimensional data.\n",
    "    -Zs=[Z1,...,Zi,...,Zn]: array of several Zi's, where each Zi is the low dimensional data. If you only introduce one Zi, you get an error. \n",
    "        You are be able to solve this by inputing [Zi] (e.g.: Zs=[opentsne_results] instead of Zs=opentsne_results).\n",
    "    -k: number of NN\n",
    "    -subset_size: (for very large datasets)\n",
    "    \n",
    "    Outputs:\n",
    "    -mnn: kNN recall (preservation of NN from the high dimensional to the low dimensional space).\n",
    "    -low_D_ratios: array with shape (len(Zs),2). It is the ratio between the distances of low dimensional neighbors and high dimensional \n",
    "                neighbors in the LOW dimensional space. The first column is the median of the distances of the 10 NN, and the second column\n",
    "                uses the average distance instead of the median.\n",
    "    -high_D_ratios: array with shape (len(Zs),2). It is the ratio between the distances of low dimensional neighbors and high dimensional \n",
    "                neighbors in the HIGH dimensional space. The first column is the median of the distances of the 10 NN, and the second column\n",
    "                uses the average distance instead of the median.\n",
    "    '''\n",
    "    \n",
    "    if subset_size is not None:\n",
    "        np.random.seed(42)\n",
    "        subset = np.random.choice(X.shape[0], size=subset_size, replace=False)\n",
    "        \n",
    "        # In this case we will have to query k+1 points, because\n",
    "        # sklearn returns the query point itself as one of the neighbors\n",
    "        k_to_query = k + 1\n",
    "    else:\n",
    "        # In this case we can query k points\n",
    "        k_to_query = k\n",
    "    \n",
    "    nbrs1 = NearestNeighbors(n_neighbors=k_to_query, n_jobs=-1).fit(X)\n",
    "    dist1 , ind1 = nbrs1.kneighbors(X=None if subset_size is None else X[subset],\n",
    "                            return_distance=True)\n",
    "    \n",
    "    \n",
    "    \n",
    "    mnn = np.zeros(len(Zs))\n",
    "    #First column median, second column mean\n",
    "    low_D_ratios = np.zeros((len(Zs),2))\n",
    "    high_D_ratios = np.zeros((len(Zs),4))\n",
    "    \n",
    "    for num, Z in enumerate(Zs):\n",
    "        print('.', end='')\n",
    "        nbrs2 = NearestNeighbors(n_neighbors=k_to_query, n_jobs=-1).fit(Z)\n",
    "        dist2 , ind2 = nbrs2.kneighbors(X=None if subset_size is None else Z[subset],    \n",
    "                                return_distance=True)\n",
    "        # mnn\n",
    "        intersections = 0.0\n",
    "        for i in range(ind1.shape[0]):\n",
    "            intersections += len(set(ind1[i]) & set(ind2[i]))\n",
    "\n",
    "        if subset_size is None:\n",
    "            mnn[num] = intersections / ind1.shape[0] / k\n",
    "        else:\n",
    "            #here ind1.shape[0] is the size of the subset\n",
    "            # it substracts the ind1.shape[0] because when you take a subset of the data\n",
    "            # in the NearestNeighbors.kneighbors function, it takes the query point itself as\n",
    "            # one of the neighbors, so you need to substract the intersection of a point with himself\n",
    "            mnn[num] = (intersections - ind1.shape[0]) / ind1.shape[0] / k\n",
    "\n",
    "\n",
    "        ## RATIOS\n",
    "        # distances (always with subset). First column median, second column mean, 3rd column max, 4th column only-low n\n",
    "\n",
    "        high_D_distance_high_D_N = np.array([np.median(dist1[:,1:], axis=1), np.mean(dist1[:,1:], axis=1), np.amax(dist1[:,1:], axis=1)]).T   # REVISED AND CORRECT, with the .T has the right shape\n",
    "        low_D_distance_low_D_N   = np.array([np.median(dist2[:,1:], axis=1), np.mean(dist2[:,1:], axis=1)]).T   # REVISED AND CORRECT, with the .T has the right shape\n",
    "\n",
    "        high_D_distance_low_D_N  = np.zeros((ind1.shape[0],4))\n",
    "        low_D_distance_high_D_N  = np.zeros((ind1.shape[0],2))\n",
    "        \n",
    "        # for my variables\n",
    "        for i in range(ind1.shape[0]):\n",
    "            #high-dim space\n",
    "            ## all n\n",
    "            high_D_space_low_D_N=X[ind2[i,1:],:]   # this are the 10 NN of point i in the high D space\n",
    "            paper_i_in_high_D_space=X[subset[i]].reshape(1, -1)\n",
    "            d_high = pairwise_distances(paper_i_in_high_D_space,high_D_space_low_D_N)      # this is the distance of the low D N to the query paper i in the H D space\n",
    "            high_D_distance_low_D_N[i,0]=np.median(d_high)\n",
    "            high_D_distance_low_D_N[i,1]=np.mean(d_high)\n",
    "            high_D_distance_low_D_N[i,2]=np.amax(d_high)\n",
    "            ## not common only-low n \n",
    "            uncommon_N=set(ind1[i,1:]).symmetric_difference(ind2[i,1:])\n",
    "            indeces_only_low_N=np.array(list(set(ind2[i,1:]) & uncommon_N))\n",
    "            if indeces_only_low_N.size == 0:\n",
    "                # in the case where the low-d-n==high-d-n and there are no uncommon n\n",
    "                high_D_distance_low_D_N[i,3]=np.mean(dist1[i,1:])\n",
    "            else:\n",
    "                high_D_space_only_low_D_N=X[indeces_only_low_N,:] \n",
    "                d_high_only_low_N = pairwise_distances(paper_i_in_high_D_space,high_D_space_only_low_D_N)\n",
    "                high_D_distance_low_D_N[i,3]=np.mean(d_high_only_low_N)\n",
    "\n",
    "            #low-dim space\n",
    "            low_D_space_high_D_N=Z[ind1[i,1:],:]\n",
    "            paper_i_in_low_D_space=Z[subset[i]].reshape(1, -1)\n",
    "            d_low = pairwise_distances(paper_i_in_low_D_space,low_D_space_high_D_N)\n",
    "            low_D_distance_high_D_N[i,0]=np.median(d_low)\n",
    "            low_D_distance_high_D_N[i,1]=np.mean(d_low)\n",
    "\n",
    "\n",
    "        # in here we are averaging the values of each point of the subset\n",
    "    \n",
    "        low_D_ratios[num,0]= np.mean(low_D_distance_low_D_N[:,0])/np.mean(low_D_distance_high_D_N[:,0])  \n",
    "        low_D_ratios[num,1]= np.mean(low_D_distance_low_D_N[:,1])/np.mean(low_D_distance_high_D_N[:,1]) \n",
    "\n",
    "        high_D_ratios[num,0]= np.mean(high_D_distance_low_D_N[:,0])/np.mean(high_D_distance_high_D_N[:,0])  \n",
    "        high_D_ratios[num,1]= np.mean(high_D_distance_low_D_N[:,1])/np.mean(high_D_distance_high_D_N[:,1])\n",
    "        high_D_ratios[num,2]= np.mean(high_D_distance_low_D_N[:,2])/np.mean(high_D_distance_high_D_N[:,2]) \n",
    "        high_D_ratios[num,3]= np.mean(high_D_distance_low_D_N[:,3])/np.mean(high_D_distance_high_D_N[:,1]) #This last index should be 1\n",
    "        \n",
    "    print('')\n",
    "    \n",
    "    \n",
    "    return mnn , low_D_ratios , high_D_ratios"
   ]
  },
  {
   "cell_type": "code",
   "execution_count": 2,
   "metadata": {},
   "outputs": [],
   "source": [
    "def get_knn_score_split(Zs, colors, k=10, subset_size=500, rs=42):\n",
    "    \"\"\"\n",
    "    Gets the knn score of the points with a color different than 'lightgrey' (unlabeled points).\n",
    "    Input:\n",
    "    - Zs: data \n",
    "    - colors: labels, in our case these are the colors.\n",
    "    - k: number of neighbors\n",
    "    - subset_size: size of the test set.\n",
    "    - rs: random seed\n",
    "    \"\"\"\n",
    "    \n",
    "    knn_scores=[]\n",
    "    \n",
    "    for i, Xrp in enumerate(Zs):\n",
    "        n = np.sum(colors!='lightgrey')\n",
    "        np.random.seed(rs)\n",
    "        test = np.random.choice(n, size=subset_size, replace=False)\n",
    "        train = np.setdiff1d(np.arange(n), test)\n",
    "\n",
    "        neigh = KNeighborsClassifier(n_neighbors=10, algorithm='brute')\n",
    "        neigh.fit(Xrp[colors!='lightgrey'][train], colors[colors!='lightgrey'][train])\n",
    "        acc = np.mean(neigh.predict(Xrp[colors!='lightgrey'][test]) == colors[colors!='lightgrey'][test])\n",
    "        knn_scores.append(acc)\n",
    "\n",
    "    return knn_scores"
   ]
  },
  {
   "cell_type": "markdown",
   "metadata": {},
   "source": [
    "# kNN recall from t-SNE to TF-IDF"
   ]
  },
  {
   "cell_type": "markdown",
   "metadata": {},
   "source": [
    "## Default, exgg=1, n_iter=10000"
   ]
  },
  {
   "cell_type": "code",
   "execution_count": 10,
   "metadata": {},
   "outputs": [
    {
     "name": "stdout",
     "output_type": "stream",
     "text": [
      ".\n",
      "peak memory: 162430.99 MiB, increment: 79416.33 MiB\n",
      "CPU times: user 4h 52min 19s, sys: 56min 45s, total: 5h 49min 4s\n",
      "Wall time: 48min 12s\n"
     ]
    }
   ],
   "source": [
    "%%time\n",
    "%%memit\n",
    "\n",
    "knn_recall_tfidf_tsne_exgg1, ratio_low_tfidf_tsne_exgg1, ratio_high_tfidf_tsne_exgg1 = mnn_and_ratios(tfidf_features, [Zs_array_exgg_1[-1]],  subset_size=500)"
   ]
  },
  {
   "cell_type": "code",
   "execution_count": 13,
   "metadata": {},
   "outputs": [
    {
     "name": "stdout",
     "output_type": "stream",
     "text": [
      "[0.0116]\n"
     ]
    }
   ],
   "source": [
    "print(knn_recall_tfidf_tsne_exgg1)\n",
    "# print(ratio_low_tfidf_tsne_exgg1)\n",
    "# print(ratio_high_tfidf_tsne_exgg1)"
   ]
  },
  {
   "cell_type": "code",
   "execution_count": 12,
   "metadata": {},
   "outputs": [],
   "source": [
    "np.save(\"variables/all_data/tsne_exgg_1_n_iter_10000/knn_recall_tfidf_tsne_exgg1\",knn_recall_tfidf_tsne_exgg1)\n",
    "np.save(\"variables/all_data/tsne_exgg_1_n_iter_10000/ratio_low_tfidf_tsne_exgg1\",ratio_low_tfidf_tsne_exgg1)\n",
    "np.save(\"variables/all_data/tsne_exgg_1_n_iter_10000/ratio_high_tfidf_tsne_exgg1\",ratio_high_tfidf_tsne_exgg1)"
   ]
  },
  {
   "cell_type": "code",
   "execution_count": 11,
   "metadata": {},
   "outputs": [],
   "source": [
    "# knn_recall_tfidf_tsne_exgg1=np.load(\"variables/all_data/tsne_exgg_1_n_iter_10000/knn_recall_tfidf_tsne_exgg1.npy\")\n",
    "# ratio_low_tfidf_tsne_exgg1=np.load(\"variables/all_data/tsne_exgg_1_n_iter_10000/ratio_low_tfidf_tsne_exgg1.npy\")\n",
    "# ratio_high_tfidf_tsne_exgg1=np.load(\"variables/all_data/tsne_exgg_1_n_iter_10000/ratio_high_tfidf_tsne_exgg1.npy\")"
   ]
  },
  {
   "cell_type": "markdown",
   "metadata": {},
   "source": [
    "# kNN recall from t-SNE to SVD"
   ]
  },
  {
   "cell_type": "markdown",
   "metadata": {},
   "source": [
    "## Annealing, exgg=1, n_iter=10000"
   ]
  },
  {
   "cell_type": "code",
   "execution_count": 7,
   "metadata": {},
   "outputs": [
    {
     "name": "stdout",
     "output_type": "stream",
     "text": [
      "............................................................................................................................................................................................................\n",
      "peak memory: 106595.79 MiB, increment: 3410.91 MiB\n",
      "CPU times: user 2d 22h 27min 49s, sys: 16h 46min 24s, total: 3d 15h 14min 13s\n",
      "Wall time: 4h 44min 10s\n"
     ]
    }
   ],
   "source": [
    "%%time\n",
    "%%memit\n",
    "\n",
    "knn_recall_tsne_exgg_annealing, ratio_low_tsne_exgg_annealing, ratio_high_tsne_exgg_annealing = mnn_and_ratios(svd_data, Zs_array_annealing_exgg_1,  subset_size=10000)"
   ]
  },
  {
   "cell_type": "code",
   "execution_count": 9,
   "metadata": {},
   "outputs": [],
   "source": [
    "np.save(\"variables/all_data/tsne_annealing_exgg_1_n_iter_10000/knn_recall\",knn_recall_tsne_exgg_annealing)\n",
    "np.save(\"variables/all_data/tsne_annealing_exgg_1_n_iter_10000/ratio_low\",ratio_low_tsne_exgg_annealing)\n",
    "np.save(\"variables/all_data/tsne_annealing_exgg_1_n_iter_10000/ratio_high\",ratio_high_tsne_exgg_annealing)"
   ]
  },
  {
   "cell_type": "markdown",
   "metadata": {},
   "source": [
    "## Default, exgg=1, n_iter=10000"
   ]
  },
  {
   "cell_type": "code",
   "execution_count": 7,
   "metadata": {},
   "outputs": [
    {
     "name": "stdout",
     "output_type": "stream",
     "text": [
      "............................................................................................................................................................................................................\n",
      "peak memory: 106595.79 MiB, increment: 3410.91 MiB\n",
      "CPU times: user 2d 22h 27min 49s, sys: 16h 46min 24s, total: 3d 15h 14min 13s\n",
      "Wall time: 4h 44min 10s\n"
     ]
    }
   ],
   "source": [
    "%%time\n",
    "%%memit\n",
    "\n",
    "knn_recall_tsne_exgg_1, ratio_low_tsne_exgg_1, ratio_high_tsne_exgg_1 = mnn_and_ratios(svd_data, Zs_array_exgg_1,  subset_size=10000)"
   ]
  },
  {
   "cell_type": "code",
   "execution_count": 9,
   "metadata": {},
   "outputs": [],
   "source": [
    "np.save(\"variables/all_data/tsne_exgg_1_n_iter_10000/knn_recall\",knn_recall_tsne_exgg_1)\n",
    "np.save(\"variables/all_data/tsne_exgg_1_n_iter_10000/ratio_low\",ratio_low_tsne_exgg_1)\n",
    "np.save(\"variables/all_data/tsne_exgg_1_n_iter_10000/ratio_high\",ratio_high_tsne_exgg_1)"
   ]
  },
  {
   "cell_type": "markdown",
   "metadata": {},
   "source": [
    "## Default, exgg=2, n_iter=2000"
   ]
  },
  {
   "cell_type": "code",
   "execution_count": 7,
   "metadata": {},
   "outputs": [
    {
     "name": "stdout",
     "output_type": "stream",
     "text": [
      ".............................................\n",
      "CPU times: user 2d 7h 58min 20s, sys: 15h 44min 17s, total: 2d 23h 42min 37s\n",
      "Wall time: 2h 41min 57s\n"
     ]
    }
   ],
   "source": [
    "%%time\n",
    "\n",
    "knn_recall_exgg_2, ratio_low_exgg_2, ratio_high_exgg_2 = mnn_and_ratios(svd_data, Zs_array_exgg_2, subset_size=10000)"
   ]
  },
  {
   "cell_type": "code",
   "execution_count": 9,
   "metadata": {},
   "outputs": [],
   "source": [
    "np.save(\"variables/all_data/tsne_exgg_2_n_iter_2000/knn_recall\",knn_recall_exgg_2)\n",
    "np.save(\"variables/all_data/tsne_exgg_2_n_iter_2000/ratio_low\",ratio_low_exgg_2)\n",
    "np.save(\"variables/all_data/tsne_exgg_2_n_iter_2000/ratio_high\",ratio_high_exgg_2)"
   ]
  },
  {
   "cell_type": "markdown",
   "metadata": {},
   "source": [
    "## Default, exgg=4, n_iter=2000"
   ]
  },
  {
   "cell_type": "code",
   "execution_count": null,
   "metadata": {},
   "outputs": [],
   "source": [
    "%%time\n",
    "\n",
    "knn_recall_exgg_4, ratio_low_exgg_4, ratio_high_exgg_4 = mnn_and_ratios(svd_data, Zs_array_exgg_4, subset_size=10000)"
   ]
  },
  {
   "cell_type": "code",
   "execution_count": null,
   "metadata": {},
   "outputs": [],
   "source": [
    "np.save(\"variables/all_data/tsne_exgg_4_n_iter_2000/knn_recall\",knn_recall_exgg_4)\n",
    "np.save(\"variables/all_data/tsne_exgg_4_n_iter_2000/ratio_low\",ratio_low_exgg_4)\n",
    "np.save(\"variables/all_data/tsne_exgg_4_n_iter_2000/ratio_high\",ratio_high_exgg_4)"
   ]
  },
  {
   "cell_type": "markdown",
   "metadata": {},
   "source": [
    "# kNN recall from SVD to TF-IDF"
   ]
  },
  {
   "cell_type": "code",
   "execution_count": null,
   "metadata": {},
   "outputs": [],
   "source": [
    "%%time\n",
    "mnn_svd, ratio_low_svd, ratio_high_svd = mnn_and_ratios(tfidf_features, [svd_data[:,:10],svd_data[:,:50],svd_data[:,:100],svd_data[:,:200],svd_data],  subset_size=500)"
   ]
  },
  {
   "cell_type": "code",
   "execution_count": null,
   "metadata": {},
   "outputs": [],
   "source": [
    "np.save(\"variables/knn_recall_svd\",mnn_svd)\n",
    "np.save(\"variables/ratio_low_svd\",ratio_low_svd)\n",
    "np.save(\"variables/ratio_high_svd\",ratio_high_svd)"
   ]
  },
  {
   "cell_type": "markdown",
   "metadata": {},
   "source": [
    "# kNN accuracy"
   ]
  },
  {
   "cell_type": "markdown",
   "metadata": {},
   "source": [
    "## TF-IDF"
   ]
  },
  {
   "cell_type": "code",
   "execution_count": 6,
   "metadata": {},
   "outputs": [
    {
     "name": "stdout",
     "output_type": "stream",
     "text": [
      "peak memory: 38508.79 MiB, increment: 14672.32 MiB\n",
      "CPU times: user 12min 42s, sys: 31.9 s, total: 13min 14s\n",
      "Wall time: 13min 16s\n"
     ]
    }
   ],
   "source": [
    "%%time\n",
    "%%memit\n",
    "knn_score_tfidf_split= get_knn_score_split([tfidf_features] , automatic_colors, subset_size=500)"
   ]
  },
  {
   "cell_type": "code",
   "execution_count": 7,
   "metadata": {},
   "outputs": [],
   "source": [
    "np.save(\"variables/knn_score_tfidf_split\",knn_score_tfidf_split)"
   ]
  },
  {
   "cell_type": "code",
   "execution_count": 8,
   "metadata": {},
   "outputs": [
    {
     "data": {
      "text/plain": [
       "[0.712]"
      ]
     },
     "execution_count": 8,
     "metadata": {},
     "output_type": "execute_result"
    }
   ],
   "source": [
    "knn_score_tfidf_split"
   ]
  },
  {
   "cell_type": "code",
   "execution_count": 44,
   "metadata": {},
   "outputs": [],
   "source": [
    "knn_score_tfidf_split=np.load(\"variables/knn_score_tfidf_split.npy\")"
   ]
  },
  {
   "cell_type": "markdown",
   "metadata": {},
   "source": [
    "## SVD"
   ]
  },
  {
   "cell_type": "code",
   "execution_count": 5,
   "metadata": {},
   "outputs": [
    {
     "name": "stdout",
     "output_type": "stream",
     "text": [
      "peak memory: 80251.55 MiB, increment: 36001.27 MiB\n",
      "CPU times: user 22min 53s, sys: 8min 35s, total: 31min 29s\n",
      "Wall time: 7min\n"
     ]
    }
   ],
   "source": [
    "%%time\n",
    "%%memit\n",
    "knn_score_svd_arpack_split= get_knn_score_split([svd_data[:,:10],svd_data[:,:50],svd_data[:,:100],svd_data[:,:200],svd_data], automatic_colors, subset_size=500)"
   ]
  },
  {
   "cell_type": "code",
   "execution_count": 7,
   "metadata": {},
   "outputs": [
    {
     "data": {
      "text/plain": [
       "[0.488, 0.658, 0.654, 0.664, 0.662]"
      ]
     },
     "execution_count": 7,
     "metadata": {},
     "output_type": "execute_result"
    }
   ],
   "source": [
    "knn_score_svd_arpack_split"
   ]
  },
  {
   "cell_type": "code",
   "execution_count": 6,
   "metadata": {},
   "outputs": [],
   "source": [
    "np.save(\"variables/knn_score_svd_arpack_split\",knn_score_svd_arpack_split)"
   ]
  },
  {
   "cell_type": "code",
   "execution_count": 49,
   "metadata": {},
   "outputs": [],
   "source": [
    "knn_score_svd_arpack_split=np.load(\"variables/knn_score_svd_arpack_split.npy\")"
   ]
  },
  {
   "cell_type": "markdown",
   "metadata": {},
   "source": [
    "## Annealing, exgg=1, n_iter=10000"
   ]
  },
  {
   "cell_type": "code",
   "execution_count": 13,
   "metadata": {},
   "outputs": [
    {
     "name": "stdout",
     "output_type": "stream",
     "text": [
      "peak memory: 41693.64 MiB, increment: 0.01 MiB\n",
      "CPU times: user 1h 48min 30s, sys: 1h 15min 16s, total: 3h 3min 47s\n",
      "Wall time: 42min 7s\n"
     ]
    }
   ],
   "source": [
    "%%time\n",
    "%%memit\n",
    "score_exgg_annealing_split= get_knn_score_split(Zs_array_annealing_exgg_1 , automatic_colors, subset_size=500)"
   ]
  },
  {
   "cell_type": "code",
   "execution_count": 14,
   "metadata": {},
   "outputs": [],
   "source": [
    "np.save(\"variables/all_data/tsne_annealing_exgg_1_n_iter_10000/knn_score_split\",score_exgg_annealing_split)"
   ]
  },
  {
   "cell_type": "code",
   "execution_count": 9,
   "metadata": {},
   "outputs": [],
   "source": [
    "score_exgg_annealing_split=np.load(\"variables/all_data/tsne_annealing_exgg_1_n_iter_10000/knn_score_split.npy\")"
   ]
  },
  {
   "cell_type": "markdown",
   "metadata": {},
   "source": [
    "## Default, exgg=1, n_iter=10000"
   ]
  },
  {
   "cell_type": "code",
   "execution_count": 19,
   "metadata": {},
   "outputs": [
    {
     "name": "stdout",
     "output_type": "stream",
     "text": [
      "peak memory: 101259.10 MiB, increment: 2190.03 MiB\n",
      "CPU times: user 7h 10min 10s, sys: 5h 11min 30s, total: 12h 21min 41s\n",
      "Wall time: 2h 42min 40s\n"
     ]
    }
   ],
   "source": [
    "%%time\n",
    "%%memit\n",
    "score_exgg_1_split= get_knn_score_split(Zs_array_exgg_1 , automatic_colors, subset_size=500)\n"
   ]
  },
  {
   "cell_type": "code",
   "execution_count": 20,
   "metadata": {},
   "outputs": [],
   "source": [
    "np.save(\"variables/all_data/tsne_exgg_1_n_iter_10000/knn_score_split\",score_exgg_1_split)"
   ]
  },
  {
   "cell_type": "code",
   "execution_count": null,
   "metadata": {},
   "outputs": [],
   "source": [
    "score_exgg_1_split=np.load(\"variables/all_data/tsne_exgg_1_n_iter_10000/knn_score_split.npy\")"
   ]
  },
  {
   "cell_type": "markdown",
   "metadata": {},
   "source": [
    "## Default, exgg=2, n_iter=2000"
   ]
  },
  {
   "cell_type": "code",
   "execution_count": 7,
   "metadata": {},
   "outputs": [
    {
     "name": "stdout",
     "output_type": "stream",
     "text": [
      "peak memory: 41693.54 MiB, increment: 2353.68 MiB\n",
      "CPU times: user 1h 35min 3s, sys: 1h 9min 16s, total: 2h 44min 20s\n",
      "Wall time: 34min 56s\n"
     ]
    }
   ],
   "source": [
    "%%time\n",
    "%%memit\n",
    "score_exgg_2_split= get_knn_score_split(Zs_array_exgg_2 , automatic_colors, subset_size=500)\n"
   ]
  },
  {
   "cell_type": "code",
   "execution_count": 8,
   "metadata": {},
   "outputs": [],
   "source": [
    "np.save(\"variables/all_data/tsne_exgg_2_n_iter_10000/knn_score_split\",score_exgg_2_split)"
   ]
  },
  {
   "cell_type": "code",
   "execution_count": 6,
   "metadata": {},
   "outputs": [],
   "source": [
    "score_exgg_2_split=np.load(\"variables/all_data/tsne_exgg_2_n_iter_10000/knn_score_split.npy\")"
   ]
  },
  {
   "cell_type": "markdown",
   "metadata": {},
   "source": [
    "## Default, exgg=4, n_iter=2000"
   ]
  },
  {
   "cell_type": "code",
   "execution_count": 10,
   "metadata": {},
   "outputs": [
    {
     "name": "stdout",
     "output_type": "stream",
     "text": [
      "peak memory: 41693.60 MiB, increment: 0.00 MiB\n",
      "CPU times: user 1h 52min 37s, sys: 1h 16min 28s, total: 3h 9min 5s\n",
      "Wall time: 43min 15s\n"
     ]
    }
   ],
   "source": [
    "%%time\n",
    "%%memit\n",
    "score_exgg_4_split= get_knn_score_split(Zs_array_exgg_4 , automatic_colors, subset_size=500)\n"
   ]
  },
  {
   "cell_type": "code",
   "execution_count": 11,
   "metadata": {},
   "outputs": [],
   "source": [
    "np.save(\"variables/all_data/tsne_exgg_4_n_iter_10000/knn_score_split\",score_exgg_4_split)"
   ]
  },
  {
   "cell_type": "code",
   "execution_count": 8,
   "metadata": {},
   "outputs": [],
   "source": [
    "score_exgg_4_split=np.load(\"variables/all_data/tsne_exgg_4_n_iter_10000/knn_score_split.npy\")"
   ]
  },
  {
   "cell_type": "markdown",
   "metadata": {},
   "source": [
    "# Plots"
   ]
  },
  {
   "cell_type": "code",
   "execution_count": null,
   "metadata": {},
   "outputs": [],
   "source": []
  },
  {
   "cell_type": "markdown",
   "metadata": {},
   "source": [
    "## Fig 2"
   ]
  },
  {
   "cell_type": "code",
   "execution_count": null,
   "metadata": {},
   "outputs": [],
   "source": [
    "pickle_in = open(\"variables/all_data/tsne_exgg_1_n_iter_10000/iterations.pkl\",\"rb\")\n",
    "iterations_exgg_1 = pickle.load(pickle_in)"
   ]
  },
  {
   "cell_type": "code",
   "execution_count": null,
   "metadata": {},
   "outputs": [],
   "source": [
    "x2=np.arange(50,2300,50)"
   ]
  },
  {
   "cell_type": "code",
   "execution_count": 25,
   "metadata": {},
   "outputs": [
    {
     "data": {
      "image/png": "[encoded data removed]",
      "text/plain": [
       "<Figure size 1100x330 with 3 Axes>"
      ]
     },
     "metadata": {
      "needs_background": "light"
     },
     "output_type": "display_data"
    }
   ],
   "source": [
    "%matplotlib inline \n",
    "\n",
    "fig, axs =plt.subplots(1, 3, figsize=(5.5, 1.65), dpi=200)\n",
    "\n",
    "index_2000 = [i for i, x in enumerate(np.array(iterations_exgg_1)==2000) if x]\n",
    "\n",
    "#plot\n",
    "axs[0].plot(x2,knn_recall_exgg_4,'-', linewidth=0.8, label='Default, exgg=4',c='tab:green')\n",
    "axs[0].plot(x2,knn_recall_exgg_1[:45],'-', linewidth=0.8, label='Default, exgg=1',c='tab:blue')\n",
    "axs[0].plot(x2,knn_recall_exgg_2,'-', linewidth=0.8, label='Default, exgg=2',c='tab:orange')\n",
    "axs[0].plot(x2[:4],knn_recall_tsne_exgg_annealing[:4],'-', linewidth=0.8, c='tab:cyan')\n",
    "axs[0].plot(x2[5:],knn_recall_tsne_exgg_annealing[4:],'-', linewidth=0.8, c='tab:cyan', label='Annealing, exgg=1')\n",
    "axs[0].vlines(250,-0.002,np.amax(knn_recall_exgg_1[:45])+0.001,color='grey',linestyles='-', linewidth=0.8,label='End of early exaggeration phase')\n",
    "# texts\n",
    "axs[0].text(0.03, 0.25, \"Early exaggeration\", c='grey', fontsize=6, rotation='vertical', ha='left',transform=axs[0].transAxes)\n",
    "\n",
    "axs[0].text(0.48, 0.97, \"Annealed\", c='tab:cyan', fontsize=6, ha='left',transform=axs[0].transAxes)\n",
    "axs[0].text(0.48, 0.89, \"Exgg=1\", c='tab:cyan', fontsize=6, ha='left',transform=axs[0].transAxes)\n",
    "axs[0].text(0.75, 0.72, \"Exgg=1\", c='tab:blue', fontsize=6, ha='left',transform=axs[0].transAxes)\n",
    "axs[0].text(0.75, 0.37, \"Exgg=2\", c='tab:orange', fontsize=6, ha='left',transform=axs[0].transAxes)\n",
    "axs[0].text(0.75, 0.1, \"Exgg=4\", c='tab:green', fontsize=6, ha='left',transform=axs[0].transAxes)\n",
    "# extra\n",
    "axs[0].text(-0.5, 1.0, string.ascii_lowercase[0], transform=axs[0].transAxes, size=7, weight='bold')\n",
    "axs[0].set_ylabel('kNN recall',fontsize=7)\n",
    "axs[0].set_xlabel('Iterations',fontsize=7)\n",
    "axs[0].tick_params('both', labelsize=7)\n",
    "axs[0].set_xticks([0,1000,2000])\n",
    "axs[0].set_xlim(0,2250)\n",
    "axs[0].set_ylim(-0.0002,np.amax(knn_recall_exgg_1_all[:45])+0.001)\n",
    "sns.despine(ax=axs[0])\n",
    "\n",
    "\n",
    "# plot\n",
    "axs[1].plot(x2,score_exgg_1_split[:45],'-', linewidth=0.8, label='Default, exgg=1') \n",
    "axs[1].plot(x2[:4],score_exgg_annealing_split[:4],'-', linewidth=0.8, c='tab:cyan')\n",
    "axs[1].plot(x2[5:],score_exgg_annealing_split[4:],'-', linewidth=0.8, c='tab:cyan', label='Annealing, exgg=1')\n",
    "axs[1].plot(x2,score_exgg_2_split,'-', linewidth=0.8, label='Default, exgg=2')\n",
    "axs[1].plot(x2,score_exgg_4_split,'-', linewidth=0.8, label='Default, exgg=4')\n",
    "\n",
    "axs[1].vlines(250,0.1,np.amax(knn_score_tfidf_split)+0.02,color='grey',linestyles='-', linewidth=0.8,)\n",
    "axs[1].hlines(knn_score_tfidf_split,x2[0],x2[-1],linestyles='dashed', linewidth=0.8, label='Tf-idf', color='black') \n",
    "axs[1].hlines(knn_score_svd_arpack_split[-1],x2[0],x2[-1],linestyles='dashdot',linewidth=0.8, label=\"SVD 'arpack'\", color='tab:blue')\n",
    "# texts\n",
    "axs[1].text(0.8, 0.98, \"TF-IDF\", c='black', fontsize=6, ha='center',transform=axs[1].transAxes)\n",
    "axs[1].text(0.8, 0.88, \"SVD\", c='tab:blue', fontsize=6, ha='center',transform=axs[1].transAxes)\n",
    "# extra\n",
    "axs[1].text(-0.5, 1.0, string.ascii_lowercase[1], transform=axs[1].transAxes, size=7, weight='bold')\n",
    "axs[1].set_ylabel('kNN accuracy',fontsize=7)\n",
    "axs[1].set_xlabel('Iterations',fontsize=7)\n",
    "axs[1].tick_params('both', labelsize=7)\n",
    "axs[1].set_xticks([0,1000,2000])\n",
    "sns.despine(ax=axs[1])\n",
    "axs[1].set_xlim(0,2250)\n",
    "axs[1].set_ylim(0.2,np.amax(knn_score_tfidf_split)+0.02)\n",
    "\n",
    "\n",
    "\n",
    "\n",
    "\n",
    "# plot\n",
    "axs[2].plot(x1,knn_recall_exgg_1,'-', linewidth=0.8, color='tab:blue',label='Default, exgg=1') \n",
    "axs[2].plot(x1[:4],knn_recall_tsne_exgg_annealing[:4],'-', linewidth=0.8, c='tab:cyan')\n",
    "axs[2].plot(x1[5:],knn_recall_tsne_exgg_annealing[4:],'-', linewidth=0.8, c='tab:cyan')\n",
    "# text\n",
    "axs[2].plot(x1[index_2000[0]],knn_recall_exgg_1[index_2000[0]],c='tab:blue',marker='.', markersize=2)\n",
    "axs[2].text(x1[index_2000[0]],knn_recall_exgg_1[index_2000[0]]-0.002, \"iter=2250\", size=6)\n",
    "# extra\n",
    "axs[2].text(-0.5, 1.0, string.ascii_lowercase[2], transform=axs[2].transAxes, size=7, weight='bold')\n",
    "axs[2].set_ylabel('kNN recall',fontsize=7)\n",
    "axs[2].set_xlabel('Iterations',fontsize=7)\n",
    "axs[2].tick_params('both', labelsize=7)\n",
    "axs[2].set_xticks([0,5000,10000])\n",
    "sns.despine(ax=axs[2])\n",
    "axs[2].set_xlim(0,10250)\n",
    "axs[2].set_ylim(-0.0005,np.amax(knn_recall_exgg_1_all)+0.002)\n",
    "\n",
    "\n",
    "\n",
    "plt.tight_layout(w_pad=0.01)\n",
    "\n",
    "#save\n",
    "plt.savefig(\"figures/fig_2.pdf\", bbox_inches='tight')"
   ]
  },
  {
   "cell_type": "markdown",
   "metadata": {},
   "source": [
    "## Fig A4"
   ]
  },
  {
   "cell_type": "code",
   "execution_count": 47,
   "metadata": {},
   "outputs": [],
   "source": [
    "n_components=np.array([10, 50, 100, 200, 300])\n",
    "n_components_ticks=np.array([0, 100, 200, 300])"
   ]
  },
  {
   "cell_type": "code",
   "execution_count": 204,
   "metadata": {},
   "outputs": [
    {
     "data": {
      "image/png": "[encoded data removed]",
      "text/plain": [
       "<Figure size 880x330 with 2 Axes>"
      ]
     },
     "metadata": {
      "needs_background": "light"
     },
     "output_type": "display_data"
    }
   ],
   "source": [
    "%matplotlib inline \n",
    "\n",
    "\n",
    "fig, axs=plt.subplots(1, 2, figsize=(4.4, 1.65), dpi=200)\n",
    "\n",
    "\n",
    "#plot\n",
    "axs[0].plot(n_components,mnn_svd_arpack_mnnsubset_500,'-', linewidth=0.8, label=\"Truncated SVD 'arpack'\",c='tab:blue')\n",
    "\n",
    "#extra\n",
    "axs[0].text(-0.3, 1.05, string.ascii_lowercase[0], transform=axs[0].transAxes, size=7, weight='bold')\n",
    "axs[0].set_ylim(bottom=0)\n",
    "axs[0].set_ylabel('kNN recall',fontsize=7)\n",
    "axs[0].set_xlabel('Number of SVD components',fontsize=7)\n",
    "axs[0].set_xlim(0,300)\n",
    "axs[0].tick_params('both', labelsize=7)\n",
    "axs[0].set_xticks(n_components_ticks)\n",
    "sns.despine(ax=axs[0])\n",
    "\n",
    "\n",
    "\n",
    "axs[1].plot(n_components,knn_score_svd_arpack_split,'-', linewidth=0.8, label=\"Truncated SVD 'arpack'\",c='tab:blue')\n",
    "axs[1].hlines(knn_score_tfidf_split,n_components[0],n_components[-1],'black',linestyles='dashed', linewidth=0.8, label='Tf-idf (original data)') #\n",
    "#extra\n",
    "axs[1].text(0.8, 1, \"TF-IDF\", c='black', fontsize=6, ha='center',transform=axs[1].transAxes)\n",
    "axs[1].text(-0.26, 1.05, string.ascii_lowercase[1], transform=axs[1].transAxes, size=7, weight='bold')\n",
    "axs[1].set_ylabel('kNN accuracy',fontsize=7)\n",
    "axs[1].set_xlabel('Number of SVD components',fontsize=7)\n",
    "axs[1].set_xlim(0,300)\n",
    "axs[1].tick_params('both', labelsize=7)\n",
    "axs[1].set_xticks(n_components_ticks)\n",
    "sns.despine(ax=axs[1])\n",
    "\n",
    "\n",
    "plt.tight_layout()\n",
    "\n",
    "#save\n",
    "plt.savefig(\"figures/fig_A4.pdf\", bbox_inches='tight')"
   ]
  }
 ],
 "metadata": {
  "kernelspec": {
   "display_name": "Python 3",
   "language": "python",
   "name": "python3"
  },
  "language_info": {
   "codemirror_mode": {
    "name": "ipython",
    "version": 3
   },
   "file_extension": ".py",
   "mimetype": "text/x-python",
   "name": "python",
   "nbconvert_exporter": "python",
   "pygments_lexer": "ipython3",
   "version": "3.8.0"
  }
 },
 "nbformat": 4,
 "nbformat_minor": 4
}
